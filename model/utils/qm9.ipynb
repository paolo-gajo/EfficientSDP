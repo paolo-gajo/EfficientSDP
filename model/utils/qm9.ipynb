{
 "cells": [
  {
   "cell_type": "code",
   "execution_count": 8,
   "id": "13e7b8c1",
   "metadata": {},
   "outputs": [
    {
     "name": "stdout",
     "output_type": "stream",
     "text": [
      "# graphs: 1113\n",
      "First graph:\n",
      "Data(edge_index=[2, 162], x=[42, 3], y=[1])\n",
      "Num nodes: 42, Num edges: 162\n",
      "tensor([[1., 0., 0.],\n",
      "        [1., 0., 0.],\n",
      "        [1., 0., 0.],\n",
      "        [1., 0., 0.],\n",
      "        [1., 0., 0.],\n",
      "        [1., 0., 0.],\n",
      "        [1., 0., 0.],\n",
      "        [1., 0., 0.],\n",
      "        [1., 0., 0.],\n",
      "        [1., 0., 0.],\n",
      "        [1., 0., 0.],\n",
      "        [1., 0., 0.],\n",
      "        [1., 0., 0.],\n",
      "        [1., 0., 0.],\n",
      "        [1., 0., 0.],\n",
      "        [1., 0., 0.],\n",
      "        [1., 0., 0.],\n",
      "        [1., 0., 0.],\n",
      "        [1., 0., 0.],\n",
      "        [1., 0., 0.],\n",
      "        [1., 0., 0.],\n",
      "        [1., 0., 0.],\n",
      "        [0., 1., 0.],\n",
      "        [0., 1., 0.],\n",
      "        [0., 1., 0.],\n",
      "        [0., 1., 0.],\n",
      "        [0., 1., 0.],\n",
      "        [0., 1., 0.],\n",
      "        [0., 1., 0.],\n",
      "        [0., 1., 0.],\n",
      "        [0., 1., 0.],\n",
      "        [0., 1., 0.],\n",
      "        [0., 1., 0.],\n",
      "        [0., 1., 0.],\n",
      "        [0., 1., 0.],\n",
      "        [0., 1., 0.],\n",
      "        [0., 1., 0.],\n",
      "        [0., 1., 0.],\n",
      "        [0., 1., 0.],\n",
      "        [0., 1., 0.],\n",
      "        [0., 1., 0.],\n",
      "        [0., 1., 0.]])\n"
     ]
    }
   ],
   "source": [
    "from torch_geometric.datasets import TUDataset\n",
    "\n",
    "# Choose a graph classification dataset with small graphs\n",
    "dataset = TUDataset(root='data/TUDataset', name='PROTEINS')  # or IMDB-BINARY, MUTAG, etc.\n",
    "\n",
    "sample = dataset[0]\n",
    "\n",
    "print(f'# graphs: {len(dataset)}')\n",
    "print(f'First graph:\\n{sample}')\n",
    "print(f'Num nodes: {sample.num_nodes}, Num edges: {sample.edge_index.size(1)}')\n",
    "\n",
    "# Iterate through graphs\n",
    "for data in dataset[:5]:\n",
    "    edge_index = data.edge_index\n",
    "    # Here you could generate edge labels (e.g., presence or type) if needed\n",
    "print(sample.x)"
   ]
  },
  {
   "cell_type": "code",
   "execution_count": 10,
   "id": "cb7c231c",
   "metadata": {},
   "outputs": [
    {
     "name": "stdout",
     "output_type": "stream",
     "text": [
      "# graphs: 130831\n",
      "Data(x=[5, 11], edge_index=[2, 8], edge_attr=[8, 4], y=[1, 19], pos=[5, 3], idx=[1], name='gdb_1', z=[5])\n",
      "Node features shape: torch.Size([5, 11])\n",
      "Node features: tensor([[0., 1., 0., 0., 0., 6., 0., 0., 0., 0., 4.],\n",
      "        [1., 0., 0., 0., 0., 1., 0., 0., 0., 0., 0.],\n",
      "        [1., 0., 0., 0., 0., 1., 0., 0., 0., 0., 0.],\n",
      "        [1., 0., 0., 0., 0., 1., 0., 0., 0., 0., 0.],\n",
      "        [1., 0., 0., 0., 0., 1., 0., 0., 0., 0., 0.]])\n",
      "Atomic positions: tensor([[-1.2700e-02,  1.0858e+00,  8.0000e-03],\n",
      "        [ 2.2000e-03, -6.0000e-03,  2.0000e-03],\n",
      "        [ 1.0117e+00,  1.4638e+00,  3.0000e-04],\n",
      "        [-5.4080e-01,  1.4475e+00, -8.7660e-01],\n",
      "        [-5.2380e-01,  1.4379e+00,  9.0640e-01]])\n",
      "Edge index: tensor([[0, 0, 0, 0, 1, 2, 3, 4],\n",
      "        [1, 2, 3, 4, 0, 0, 0, 0]])\n",
      "Edge features: tensor([[1., 0., 0., 0.],\n",
      "        [1., 0., 0., 0.],\n",
      "        [1., 0., 0., 0.],\n",
      "        [1., 0., 0., 0.],\n",
      "        [1., 0., 0., 0.],\n",
      "        [1., 0., 0., 0.],\n",
      "        [1., 0., 0., 0.],\n",
      "        [1., 0., 0., 0.]])\n",
      "Targets (y): tensor([[    0.0000,    13.2100,   -10.5499,     3.1865,    13.7363,    35.3641,\n",
      "             1.2177, -1101.4878, -1101.4098, -1101.3840, -1102.0229,     6.4690,\n",
      "           -17.1722,   -17.2868,   -17.3897,   -16.1519,   157.7118,   157.7100,\n",
      "           157.7070]])\n"
     ]
    }
   ],
   "source": [
    "from torch_geometric.datasets import QM9\n",
    "\n",
    "dataset = QM9(root='data/QM9')\n",
    "sample = dataset[0]\n",
    "print(f'# graphs: {len(dataset)}')\n",
    "print(sample)\n",
    "print(\"Node features shape:\", sample.x.shape)   # e.g., [num_atoms, 11]\n",
    "print(\"Node features:\", sample.x)\n",
    "print(\"Atomic positions:\", sample.pos)          # [num_atoms, 3]\n",
    "print(\"Edge index:\", sample.edge_index)         # Bonds\n",
    "print(\"Edge features:\", sample.edge_attr)       # Bond types, bond lengths etc.\n",
    "print(\"Targets (y):\", sample.y)                 # 19 molecular properties\n"
   ]
  },
  {
   "cell_type": "code",
   "execution_count": 12,
   "id": "b4b91467",
   "metadata": {},
   "outputs": [
    {
     "data": {
      "text/plain": [
       "29"
      ]
     },
     "execution_count": 12,
     "metadata": {},
     "output_type": "execute_result"
    }
   ],
   "source": [
    "max_nodes = max([el.x.shape[0] for el in dataset])\n",
    "max_nodes"
   ]
  },
  {
   "cell_type": "code",
   "execution_count": 14,
   "id": "5b944a30",
   "metadata": {},
   "outputs": [
    {
     "data": {
      "text/plain": [
       "56"
      ]
     },
     "execution_count": 14,
     "metadata": {},
     "output_type": "execute_result"
    }
   ],
   "source": [
    "max_edges = max([el.edge_index.shape[1] for el in dataset])\n",
    "max_edges"
   ]
  }
 ],
 "metadata": {
  "kernelspec": {
   "display_name": "mtrfg-torch",
   "language": "python",
   "name": "python3"
  },
  "language_info": {
   "codemirror_mode": {
    "name": "ipython",
    "version": 3
   },
   "file_extension": ".py",
   "mimetype": "text/x-python",
   "name": "python",
   "nbconvert_exporter": "python",
   "pygments_lexer": "ipython3",
   "version": "3.11.4"
  }
 },
 "nbformat": 4,
 "nbformat_minor": 5
}
